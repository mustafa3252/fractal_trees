{
 "cells": [
  {
   "cell_type": "code",
   "execution_count": null,
   "metadata": {},
   "outputs": [],
   "source": [
    "import turtle\n",
    "\n",
    "arrow = turtle.Turtle()\n",
    "arrow.goto(0,-100)\n",
    "arrow.left(90)\n",
    "arrow.speed(1)\n",
    "\n",
    "def tree(i):\n",
    "    if i<10:\n",
    "        return\n",
    "    else:\n",
    "        arrow.color(\"green\") #color of the arrow\n",
    "        arrow.forward(i) # moves forward by i units\n",
    "        arrow.left(30) # makes a 30 degree turn\n",
    "        tree(3*i/4) # decreases i value by a factor of 3/4\n",
    "        arrow.right(60)\n",
    "        tree(3*i/4)\n",
    "        arrow.left(30)\n",
    "        arrow.color(\"brown\")\n",
    "        arrow.backward(i)\n",
    "        \n",
    "tree(100)       \n",
    "\n",
    " "
   ]
  },
  {
   "cell_type": "code",
   "execution_count": null,
   "metadata": {},
   "outputs": [],
   "source": []
  }
 ],
 "metadata": {
  "kernelspec": {
   "display_name": "Python 3",
   "language": "python",
   "name": "python3"
  },
  "language_info": {
   "codemirror_mode": {
    "name": "ipython",
    "version": 3
   },
   "file_extension": ".py",
   "mimetype": "text/x-python",
   "name": "python",
   "nbconvert_exporter": "python",
   "pygments_lexer": "ipython3",
   "version": "3.7.4"
  }
 },
 "nbformat": 4,
 "nbformat_minor": 2
}
