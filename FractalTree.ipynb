{
 "cells": [
  {
   "cell_type": "code",
   "execution_count": 1,
   "metadata": {},
   "outputs": [],
   "source": [
    "import turtle\n",
    "\n",
    "arrow = turtle.Turtle()\n",
    "arrow.screen.bgcolor(\"black\") #screen background color\n",
    "arrow.goto(0,-300) #initial position of turtle\n",
    "arrow.left(90) #since initialy turtle is at 90 degree right.\n",
    "arrow.speed('fastest') #spped of the process\n",
    "\n",
    "def tree(i):\n",
    "    if i<10: #condition when to break recursion\n",
    "        return\n",
    "    else:\n",
    "        arrow.color(\"green\") #color of the design\n",
    "        arrow.forward(i) # moves forward by i units\n",
    "        arrow.left(30) # makes a 30 degree turn\n",
    "        tree(0.72*i) # decreases i value by a factor of 3/4\n",
    "        arrow.right(60) # changes to 60 degree right (double the angle above and also in order to make it retrace the path)\n",
    "        tree(0.72*i) # decreases i value by a factor of 3/4\n",
    "        arrow.left(30) # changes to 30 degree left (in order to make it retrace the path)\n",
    "        arrow.color(\"white\") # changing color again\n",
    "        arrow.backward(i) #tracing back\n",
    "        \n",
    "tree(130) # giving i its value\n",
    "\n",
    " "
   ]
  },
  {
   "cell_type": "code",
   "execution_count": null,
   "metadata": {},
   "outputs": [],
   "source": []
  }
 ],
 "metadata": {
  "kernelspec": {
   "display_name": "Python 3",
   "language": "python",
   "name": "python3"
  },
  "language_info": {
   "codemirror_mode": {
    "name": "ipython",
    "version": 3
   },
   "file_extension": ".py",
   "mimetype": "text/x-python",
   "name": "python",
   "nbconvert_exporter": "python",
   "pygments_lexer": "ipython3",
   "version": "3.7.4"
  }
 },
 "nbformat": 4,
 "nbformat_minor": 2
}
